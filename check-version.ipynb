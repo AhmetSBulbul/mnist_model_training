{
 "cells": [
  {
   "cell_type": "code",
   "execution_count": 25,
   "id": "a622940a",
   "metadata": {},
   "outputs": [
    {
     "name": "stdout",
     "output_type": "stream",
     "text": [
      "2.7.0\n"
     ]
    }
   ],
   "source": [
    "import tensorflow as tf\n",
    "print(tf.__version__)"
   ]
  },
  {
   "cell_type": "code",
   "execution_count": 26,
   "id": "f1b4b3b5",
   "metadata": {},
   "outputs": [],
   "source": [
    "mnist = tf.keras.datasets.mnist"
   ]
  },
  {
   "cell_type": "code",
   "execution_count": 27,
   "id": "39d4cee1",
   "metadata": {},
   "outputs": [],
   "source": [
    "(x_train, y_train), (x_test, y_test) = mnist.load_data()"
   ]
  },
  {
   "cell_type": "code",
   "execution_count": 28,
   "id": "8b01d60a",
   "metadata": {},
   "outputs": [
    {
     "name": "stdout",
     "output_type": "stream",
     "text": [
      "(60000, 28, 28)\n",
      "(10000, 28, 28)\n"
     ]
    }
   ],
   "source": [
    "print(x_train.shape)\n",
    "print(x_test.shape)"
   ]
  },
  {
   "cell_type": "code",
   "execution_count": 29,
   "id": "5ac918fa",
   "metadata": {},
   "outputs": [],
   "source": [
    "x_train, x_test = x_train / 255.0, x_test / 255.0\n"
   ]
  },
  {
   "cell_type": "code",
   "execution_count": 30,
   "id": "5d08a54d",
   "metadata": {},
   "outputs": [],
   "source": [
    "model = tf.keras.models.Sequential([\n",
    "    tf.keras.layers.Flatten(input_shape=(28, 28)), \n",
    "    tf.keras.layers.Dense(128, activation='relu'), \n",
    "    tf.keras.layers.Dropout(0.2),\n",
    "    tf.keras.layers.Dense(10),])"
   ]
  },
  {
   "cell_type": "code",
   "execution_count": 31,
   "id": "e53b16dc",
   "metadata": {},
   "outputs": [],
   "source": [
    "model.compile(optimizer='adam',\n",
    "loss=tf.keras.losses.SparseCategoricalCrossentropy(from_logits=True), \n",
    "metrics=['accuracy'])"
   ]
  },
  {
   "cell_type": "code",
   "execution_count": 32,
   "id": "7d3824d9",
   "metadata": {},
   "outputs": [
    {
     "name": "stdout",
     "output_type": "stream",
     "text": [
      "Epoch 1/10\n",
      "1875/1875 [==============================] - 1s 680us/step - loss: 0.2952 - accuracy: 0.9139\n",
      "Epoch 2/10\n",
      "1875/1875 [==============================] - 1s 640us/step - loss: 0.1435 - accuracy: 0.9569\n",
      "Epoch 3/10\n",
      "1875/1875 [==============================] - 1s 666us/step - loss: 0.1073 - accuracy: 0.9674\n",
      "Epoch 4/10\n",
      "1875/1875 [==============================] - 1s 689us/step - loss: 0.0900 - accuracy: 0.9717\n",
      "Epoch 5/10\n",
      "1875/1875 [==============================] - 1s 637us/step - loss: 0.0750 - accuracy: 0.9767\n",
      "Epoch 6/10\n",
      "1875/1875 [==============================] - 1s 637us/step - loss: 0.0654 - accuracy: 0.9786\n",
      "Epoch 7/10\n",
      "1875/1875 [==============================] - 1s 657us/step - loss: 0.0590 - accuracy: 0.9814\n",
      "Epoch 8/10\n",
      "1875/1875 [==============================] - 1s 659us/step - loss: 0.0529 - accuracy: 0.9826\n",
      "Epoch 9/10\n",
      "1875/1875 [==============================] - 1s 651us/step - loss: 0.0456 - accuracy: 0.9851\n",
      "Epoch 10/10\n",
      "1875/1875 [==============================] - 1s 653us/step - loss: 0.0455 - accuracy: 0.9846\n"
     ]
    },
    {
     "data": {
      "text/plain": [
       "<keras.callbacks.History at 0x16be70d00>"
      ]
     },
     "execution_count": 32,
     "metadata": {},
     "output_type": "execute_result"
    }
   ],
   "source": [
    "model.fit(x_train, y_train, epochs=10)"
   ]
  },
  {
   "cell_type": "code",
   "execution_count": 33,
   "id": "f9750751",
   "metadata": {},
   "outputs": [
    {
     "name": "stdout",
     "output_type": "stream",
     "text": [
      "313/313 [==============================] - 0s 387us/step - loss: 0.0663 - accuracy: 0.9806\n"
     ]
    },
    {
     "data": {
      "text/plain": [
       "[0.06633859127759933, 0.9805999994277954]"
      ]
     },
     "execution_count": 33,
     "metadata": {},
     "output_type": "execute_result"
    }
   ],
   "source": [
    "model.evaluate(x_test, y_test)"
   ]
  }
 ],
 "metadata": {
  "kernelspec": {
   "display_name": "Python 3 (ipykernel)",
   "language": "python",
   "name": "python3"
  },
  "language_info": {
   "codemirror_mode": {
    "name": "ipython",
    "version": 3
   },
   "file_extension": ".py",
   "mimetype": "text/x-python",
   "name": "python",
   "nbconvert_exporter": "python",
   "pygments_lexer": "ipython3",
   "version": "3.8.13"
  }
 },
 "nbformat": 4,
 "nbformat_minor": 5
}
